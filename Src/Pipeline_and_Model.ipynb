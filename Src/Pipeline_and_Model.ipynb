{
  "nbformat": 4,
  "nbformat_minor": 0,
  "metadata": {
    "colab": {
      "name": "CMPE255_Projectmodified.ipynb",
      "provenance": [],
      "collapsed_sections": [
        "nBjQVEuKKPZr"
      ],
      "toc_visible": true
    },
    "kernelspec": {
      "display_name": "Python 3",
      "language": "python",
      "name": "python3"
    },
    "language_info": {
      "codemirror_mode": {
        "name": "ipython",
        "version": 3
      },
      "file_extension": ".py",
      "mimetype": "text/x-python",
      "name": "python",
      "nbconvert_exporter": "python",
      "pygments_lexer": "ipython3",
      "version": "3.5.2"
    }
  },
  "cells": [
    {
      "cell_type": "markdown",
      "metadata": {
        "deletable": true,
        "editable": true,
        "id": "nBjQVEuKKPZr"
      },
      "source": [
        "# Adding the Required information to load the data into the google colab"
      ]
    },
    {
      "cell_type": "markdown",
      "metadata": {
        "deletable": true,
        "editable": true,
        "id": "df1AyDyJLGd7"
      },
      "source": [
        "Sources:\n",
        "\n",
        "*   https://www.kaggle.com/general/74235\n",
        "*   https://www.kaggle.com/clmentbisaillon/fake-and-real-news-dataset \n"
      ]
    },
    {
      "cell_type": "code",
      "metadata": {
        "collapsed": true,
        "deletable": true,
        "editable": true,
        "id": "ZEj3CtYgG-Vq"
      },
      "source": [
        "! pip install -q kaggle"
      ],
      "execution_count": null,
      "outputs": []
    },
    {
      "cell_type": "code",
      "metadata": {
        "collapsed": true,
        "deletable": true,
        "editable": true,
        "id": "B-smQc6THadn"
      },
      "source": [
        "from google.colab import files"
      ],
      "execution_count": null,
      "outputs": []
    },
    {
      "cell_type": "code",
      "metadata": {
        "colab": {
          "background_save": true,
          "resources": {
            "http://localhost:8080/nbextensions/google.colab/files.js": {
              "data": "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",
              "headers": [
                [
                  "content-type",
                  "application/javascript"
                ]
              ],
              "ok": true,
              "status": 200,
              "status_text": ""
            }
          },
          "base_uri": "https://localhost:8080/",
          "height": 40
        },
        "deletable": true,
        "editable": true,
        "id": "DgxaAjsZH5cL",
        "outputId": "6e4796e7-ca04-49ee-af9f-f8fd67247bc9"
      },
      "source": [
        "files.upload()"
      ],
      "execution_count": null,
      "outputs": [
        {
          "output_type": "display_data",
          "data": {
            "text/html": [
              "\n",
              "     <input type=\"file\" id=\"files-26a3be37-37d7-4683-b5e2-6eb39432d898\" name=\"files[]\" multiple disabled\n",
              "        style=\"border:none\" />\n",
              "     <output id=\"result-26a3be37-37d7-4683-b5e2-6eb39432d898\">\n",
              "      Upload widget is only available when the cell has been executed in the\n",
              "      current browser session. Please rerun this cell to enable.\n",
              "      </output>\n",
              "      <script src=\"/nbextensions/google.colab/files.js\"></script> "
            ],
            "text/plain": [
              "<IPython.core.display.HTML object>"
            ]
          },
          "metadata": {
            "tags": []
          }
        },
        {
          "output_type": "error",
          "ename": "TypeError",
          "evalue": "ignored",
          "traceback": [
            "\u001b[0;31m---------------------------------------------------------------------------\u001b[0m",
            "\u001b[0;31mTypeError\u001b[0m                                 Traceback (most recent call last)",
            "\u001b[0;32m<ipython-input-8-63b259460c61>\u001b[0m in \u001b[0;36m<module>\u001b[0;34m()\u001b[0m\n\u001b[0;32m----> 1\u001b[0;31m \u001b[0mfiles\u001b[0m\u001b[0;34m.\u001b[0m\u001b[0mupload\u001b[0m\u001b[0;34m(\u001b[0m\u001b[0;34m)\u001b[0m\u001b[0;34m\u001b[0m\u001b[0;34m\u001b[0m\u001b[0m\n\u001b[0m",
            "\u001b[0;32m/usr/local/lib/python3.6/dist-packages/google/colab/files.py\u001b[0m in \u001b[0;36mupload\u001b[0;34m()\u001b[0m\n\u001b[1;32m     67\u001b[0m   \u001b[0mlocal_filenames\u001b[0m \u001b[0;34m=\u001b[0m \u001b[0mdict\u001b[0m\u001b[0;34m(\u001b[0m\u001b[0;34m)\u001b[0m\u001b[0;34m\u001b[0m\u001b[0;34m\u001b[0m\u001b[0m\n\u001b[1;32m     68\u001b[0m \u001b[0;34m\u001b[0m\u001b[0m\n\u001b[0;32m---> 69\u001b[0;31m   \u001b[0;32mwhile\u001b[0m \u001b[0mresult\u001b[0m\u001b[0;34m[\u001b[0m\u001b[0;34m'action'\u001b[0m\u001b[0;34m]\u001b[0m \u001b[0;34m!=\u001b[0m \u001b[0;34m'complete'\u001b[0m\u001b[0;34m:\u001b[0m\u001b[0;34m\u001b[0m\u001b[0;34m\u001b[0m\u001b[0m\n\u001b[0m\u001b[1;32m     70\u001b[0m     result = _output.eval_js(\n\u001b[1;32m     71\u001b[0m         'google.colab._files._uploadFilesContinue(\"{output_id}\")'.format(\n",
            "\u001b[0;31mTypeError\u001b[0m: 'NoneType' object is not subscriptable"
          ]
        }
      ]
    },
    {
      "cell_type": "code",
      "metadata": {
        "colab": {
          "background_save": true
        },
        "collapsed": true,
        "deletable": true,
        "editable": true,
        "id": "qaE_MRsin6kT"
      },
      "source": [
        "from google.colab import drive\n",
        "drive.mount('/content/drive')"
      ],
      "execution_count": null,
      "outputs": []
    },
    {
      "cell_type": "code",
      "metadata": {
        "colab": {
          "background_save": true
        },
        "collapsed": true,
        "deletable": true,
        "editable": true,
        "id": "Z-QSI4lRILXp"
      },
      "source": [
        "! mkdir ~/.kaggle"
      ],
      "execution_count": null,
      "outputs": []
    },
    {
      "cell_type": "code",
      "metadata": {
        "colab": {
          "background_save": true
        },
        "collapsed": true,
        "deletable": true,
        "editable": true,
        "id": "xN7egHAeIMnS"
      },
      "source": [
        "! cp kaggle.json ~/.kaggle/"
      ],
      "execution_count": null,
      "outputs": []
    },
    {
      "cell_type": "code",
      "metadata": {
        "colab": {
          "background_save": true
        },
        "collapsed": true,
        "deletable": true,
        "editable": true,
        "id": "C1oBYW9dIRPs"
      },
      "source": [
        "! chmod 600 ~/.kaggle/kaggle.json"
      ],
      "execution_count": null,
      "outputs": []
    },
    {
      "cell_type": "code",
      "metadata": {
        "colab": {
          "background_save": true
        },
        "collapsed": true,
        "deletable": true,
        "editable": true,
        "id": "gDPmKsb3IUqd"
      },
      "source": [
        " ! kaggle datasets list"
      ],
      "execution_count": null,
      "outputs": []
    },
    {
      "cell_type": "code",
      "metadata": {
        "colab": {
          "background_save": true
        },
        "collapsed": true,
        "deletable": true,
        "editable": true,
        "id": "Pr9RMYkTIX3r"
      },
      "source": [
        "!kaggle datasets download -d clmentbisaillon/fake-and-real-news-dataset"
      ],
      "execution_count": null,
      "outputs": []
    },
    {
      "cell_type": "code",
      "metadata": {
        "colab": {
          "background_save": true
        },
        "collapsed": true,
        "deletable": true,
        "editable": true,
        "id": "bhS9vNuLIgcL"
      },
      "source": [
        "!unzip fake-and-real-news-dataset.zip"
      ],
      "execution_count": null,
      "outputs": []
    },
    {
      "cell_type": "markdown",
      "metadata": {
        "deletable": true,
        "editable": true,
        "id": "IjzyNsetKbw_"
      },
      "source": [
        "# Loading the data into google colab"
      ]
    },
    {
      "cell_type": "markdown",
      "metadata": {
        "deletable": true,
        "editable": true,
        "id": "cEOP5D7MIyoK"
      },
      "source": [
        "For this lab, the fake news is given a  newstype attribute of 0 and true news is an attribute of 1"
      ]
    },
    {
      "cell_type": "code",
      "metadata": {
        "colab": {
          "base_uri": "https://localhost:8080/"
        },
        "deletable": true,
        "editable": true,
        "id": "coWPg5cYIvw6",
        "outputId": "868ef643-85df-443d-c2c8-40bc86e05d51"
      },
      "source": [
        "# General\n",
        "import numpy as np \n",
        "import pandas as pd \n",
        "\n",
        "# Preprocessing\n",
        "from sklearn import feature_extraction, linear_model, model_selection, preprocessing\n",
        "from nltk.tokenize import word_tokenize\n",
        "from sklearn.feature_extraction.text import CountVectorizer,TfidfVectorizer,TfidfTransformer\n",
        "from nltk.stem import PorterStemmer\n",
        "from sklearn.model_selection import train_test_split\n",
        "from nltk.stem import WordNetLemmatizer\n",
        "from nltk.corpus import stopwords\n",
        "import nltk\n",
        "nltk.download('stopwords')\n",
        "stop=set(stopwords.words('english'))\n",
        "\n",
        "# Models\n",
        "from sklearn.linear_model import LogisticRegression\n",
        "from sklearn.svm import SVC\n",
        "from keras.models import Sequential\n",
        "from keras import layers\n",
        "from sklearn.linear_model import LogisticRegression\n",
        "from sklearn.model_selection import StratifiedKFold, KFold, GridSearchCV\n",
        "import re\n",
        "from sklearn.svm import SVC\n",
        "from sklearn.metrics import classification_report\n",
        "from sklearn import tree\n",
        "\n",
        "# Visualization\n",
        "import matplotlib.pyplot as plt"
      ],
      "execution_count": null,
      "outputs": [
        {
          "output_type": "stream",
          "text": [
            "[nltk_data] Downloading package stopwords to /root/nltk_data...\n",
            "[nltk_data]   Unzipping corpora/stopwords.zip.\n"
          ],
          "name": "stdout"
        }
      ]
    },
    {
      "cell_type": "markdown",
      "metadata": {
        "deletable": true,
        "editable": true,
        "id": "qARN2GhYKNIl"
      },
      "source": [
        "# loading the data"
      ]
    },
    {
      "cell_type": "code",
      "metadata": {
        "colab": {
          "background_save": true
        },
        "deletable": true,
        "editable": true,
        "id": "e6nsp42RJKmp"
      },
      "source": [
        "fake = pd.read_csv(\"Fake.csv\")\n",
        "true = pd.read_csv(\"True.csv\")"
      ],
      "execution_count": null,
      "outputs": []
    },
    {
      "cell_type": "code",
      "metadata": {
        "colab": {
          "background_save": true
        },
        "deletable": true,
        "editable": true,
        "id": "YBYKYqjwJTcm"
      },
      "source": [
        "fake['newstype'] = 0\n",
        "true['newstype'] = 1"
      ],
      "execution_count": null,
      "outputs": []
    },
    {
      "cell_type": "code",
      "metadata": {
        "colab": {
          "background_save": true
        },
        "deletable": true,
        "editable": true,
        "id": "Uc9jTwnFJotS"
      },
      "source": [
        "true.head()"
      ],
      "execution_count": null,
      "outputs": []
    },
    {
      "cell_type": "code",
      "metadata": {
        "colab": {
          "background_save": true
        },
        "deletable": true,
        "editable": true,
        "id": "gGEl0Ha9JuNY"
      },
      "source": [
        "frames = [fake,true]\n",
        "result = pd.concat(frames)\n",
        "result.head()"
      ],
      "execution_count": null,
      "outputs": []
    },
    {
      "cell_type": "code",
      "metadata": {
        "colab": {
          "background_save": true
        },
        "deletable": true,
        "editable": true,
        "id": "gvF36Oh9RiEw"
      },
      "source": [
        "result['text'] = result['text'] + \" \" + result['title']"
      ],
      "execution_count": null,
      "outputs": []
    },
    {
      "cell_type": "markdown",
      "metadata": {
        "deletable": true,
        "editable": true,
        "id": "EJBx0zr7KkOZ"
      },
      "source": [
        "# Preprocessing"
      ]
    },
    {
      "cell_type": "code",
      "metadata": {
        "colab": {
          "background_save": true
        },
        "deletable": true,
        "editable": true,
        "id": "FV4cQ7ViKKi-"
      },
      "source": [
        "#function to clean the data and rempve stop words\n",
        "def clean_review(text):\n",
        "    # Strip HTML tags\n",
        "    text = re.sub('[^a-zA-Z]', ' ', text)  \n",
        "    text = text.lower()  \n",
        "    text = re.sub(\"[!@#$+%*:()'-]\", ' ', text)\n",
        "    text = ''.join([i for i in text if not i.isdigit()])\n",
        "    # Strip escaped quotes\n",
        "    text = text.replace('\\\\\"', '')\n",
        "    text = text.split(' ')  \n",
        "    \n",
        "    text = [w for w in text if not w in set(stopwords.words('english'))] \n",
        "\n",
        "    text = ' '.join(text)   \n",
        "    # Strip quotes\n",
        "    # text = text.replace('\"', '')\n",
        "    \n",
        " \n",
        "    return text  \n",
        "# clean the data    \n",
        "result['text']=result['text'].apply(clean_review)\n",
        "x=result['text'].values\n",
        "y=result['newstype'].values\n",
        "x_train, x_test, y_train, y_test = train_test_split(x, y, random_state=0,test_size=0.25)\n",
        "Xtrains.append(x_train);\n",
        "Ytrains.append(y_train);\n",
        "Xtests.append(x_test);\n",
        "Ytests.append(y_test);"
      ],
      "execution_count": null,
      "outputs": []
    },
    {
      "cell_type": "code",
      "metadata": {
        "colab": {
          "background_save": true
        },
        "deletable": true,
        "editable": true,
        "id": "9ZXPMj9epHow"
      },
      "source": [
        "nltk.download('wordnet')"
      ],
      "execution_count": null,
      "outputs": []
    },
    {
      "cell_type": "code",
      "metadata": {
        "colab": {
          "background_save": true
        },
        "deletable": true,
        "editable": true,
        "id": "y_X4R72gZXYn"
      },
      "source": [
        "#function to lemmitze the data\n",
        "lemmatizer = WordNetLemmatizer()\n",
        "def lemm(text):\n",
        "    text = text.split(' ')  \n",
        "    text = [lemmatizer.lemmatize(word) for word in text]\n",
        "    text = ' '.join(text) \n",
        "    return text   \n",
        "# lem the data    \n",
        "result['lemm']=result['text'].apply(lemm)\n",
        "x=result['lemm'].values\n",
        "y=result['newstype'].values\n",
        "x_train, x_test, y_train, y_test = train_test_split(x, y, random_state=0,test_size=0.25)\n",
        "Xtrains.append(x_train);\n",
        "Ytrains.append(y_train);\n",
        "Xtests.append(x_test);\n",
        "Ytests.append(y_test);"
      ],
      "execution_count": null,
      "outputs": []
    },
    {
      "cell_type": "code",
      "metadata": {
        "colab": {
          "background_save": true
        },
        "deletable": true,
        "editable": true,
        "id": "xPuoI0vNZeR7"
      },
      "source": [
        "#function to stem the data\n",
        "def stem(text):\n",
        "    text = text.split(' ')  \n",
        "    stemmer = PorterStemmer()\n",
        "    text = [stemmer.stem(word) for word in text]\n",
        "    text = ' '.join(text)   \n",
        "    return text  \n",
        "# stem the data    \n",
        "result['stem']=result['text'].apply(stem)\n",
        "x=result['stem'].values\n",
        "y=result['newstype'].values\n",
        "x_train, x_test, y_train, y_test = train_test_split(x, y, random_state=0,test_size=0.25)\n",
        "Xtrains.append(x_train);\n",
        "Ytrains.append(y_train);\n",
        "Xtests.append(x_test);\n",
        "Ytests.append(y_test);"
      ],
      "execution_count": null,
      "outputs": []
    },
    {
      "cell_type": "code",
      "metadata": {
        "colab": {
          "background_save": true
        },
        "deletable": true,
        "editable": true,
        "id": "F6gvkdMLrRuD"
      },
      "source": [
        "result.to_csv(r'/content/drive/editeddata.csv',index=False)"
      ],
      "execution_count": null,
      "outputs": []
    },
    {
      "cell_type": "code",
      "metadata": {
        "colab": {
          "background_save": true
        },
        "deletable": true,
        "editable": true,
        "id": "gYsPfs8Gswtl"
      },
      "source": [
        "files.download('editeddata.csv')"
      ],
      "execution_count": null,
      "outputs": []
    },
    {
      "cell_type": "code",
      "metadata": {
        "deletable": true,
        "editable": true,
        "id": "s54_bRggX6cU"
      },
      "source": [
        "# add the train and test to this array\n",
        "Xtrains=[];\n",
        "Ytrains=[];\n",
        "Xtests=[];\n",
        "Ytests=[];"
      ],
      "execution_count": null,
      "outputs": []
    },
    {
      "cell_type": "code",
      "metadata": {
        "deletable": true,
        "editable": true,
        "id": "dRc2sS3mtWqN"
      },
      "source": [
        "loadedresult = pd.read_csv(\"editeddata.csv\");\n",
        "x=loadedresult['text'].values\n",
        "y=loadedresult['newstype'].values\n",
        "x_train, x_test, y_train, y_test = train_test_split(x, y, random_state=0,test_size=0.25)\n",
        "Xtrains.append(x_train);\n",
        "Ytrains.append(y_train);\n",
        "Xtests.append(x_test);\n",
        "Ytests.append(y_test);\n",
        "x=loadedresult['lemm'].values\n",
        "y=loadedresult['newstype'].values\n",
        "x_train, x_test, y_train, y_test = train_test_split(x, y, random_state=0,test_size=0.25)\n",
        "Xtrains.append(x_train);\n",
        "Ytrains.append(y_train);\n",
        "Xtests.append(x_test);\n",
        "Ytests.append(y_test);\n",
        "x=loadedresult['stem'].values\n",
        "y=loadedresult['newstype'].values\n",
        "x_train, x_test, y_train, y_test = train_test_split(x, y, random_state=0,test_size=0.25)\n",
        "Xtrains.append(x_train);\n",
        "Ytrains.append(y_train);\n",
        "Xtests.append(x_test);\n",
        "Ytests.append(y_test);"
      ],
      "execution_count": null,
      "outputs": []
    },
    {
      "cell_type": "markdown",
      "metadata": {
        "deletable": true,
        "editable": true,
        "id": "txn8p92yMdfA"
      },
      "source": [
        "**Please check if we need to add anything, to the cleaning funcion.Note: This function is not run yet. It works as I have used this in a previous project Add Preprocessing to the data such as lemming or steminidation and compare the results as well.**"
      ]
    },
    {
      "cell_type": "markdown",
      "metadata": {
        "deletable": true,
        "editable": true,
        "id": "Z_g0-Su6vaFA"
      },
      "source": [
        "1.   Stemming, Leminization, none\n",
        "2.   count TFIDF vectorizors\n",
        "3.   3 methods of machine learning,\n",
        "4.   one neural network.\n",
        "\n",
        "\n"
      ]
    },
    {
      "cell_type": "markdown",
      "metadata": {
        "deletable": true,
        "editable": true,
        "id": "Ec9UlB8JZoK_"
      },
      "source": [
        "tokenize is not necessary"
      ]
    },
    {
      "cell_type": "markdown",
      "metadata": {
        "deletable": true,
        "editable": true,
        "id": "dA-sdhNobhN1"
      },
      "source": [
        "**I incorporated the stop words and the stemmer and porter into the dataframe above**"
      ]
    },
    {
      "cell_type": "markdown",
      "metadata": {
        "deletable": true,
        "editable": true,
        "id": "WlvQLbqBKx9o"
      },
      "source": [
        "# Processing: Machine Learning"
      ]
    },
    {
      "cell_type": "markdown",
      "metadata": {
        "deletable": true,
        "editable": true,
        "id": "vBf4ROdlPnWd"
      },
      "source": [
        "Neural network would not have those functionalities"
      ]
    },
    {
      "cell_type": "code",
      "metadata": {
        "deletable": true,
        "editable": true,
        "id": "3iullgwVP1f3"
      },
      "source": [
        "from sklearn.datasets import load_boston\n",
        "from sklearn.model_selection import train_test_split\n",
        "data = load_boston()\n",
        "X_train, X_test, y_train, y_test = train_test_split(data['data'], data['target'])\n",
        "from sklearn.preprocessing import StandardScaler, RobustScaler, QuantileTransformer\n",
        "from sklearn.feature_selection import SelectKBest, f_regression\n",
        "from sklearn.decomposition import PCA\n",
        "from sklearn.linear_model import Ridge\n",
        "from sklearn import datasets, svm, metrics"
      ],
      "execution_count": null,
      "outputs": []
    },
    {
      "cell_type": "markdown",
      "metadata": {
        "deletable": true,
        "editable": true,
        "id": "TeGenBqvd69y"
      },
      "source": [
        "**The pipelines build. I have tested that.**"
      ]
    },
    {
      "cell_type": "code",
      "metadata": {
        "deletable": true,
        "editable": true,
        "id": "AdHNYe98QBAd"
      },
      "source": [
        "from sklearn.ensemble import RandomForestClassifier\n",
        "from sklearn.pipeline import Pipeline\n",
        "from sklearn.cluster import KMeans\n",
        "from sklearn.naive_bayes import GaussianNB\n",
        "from sklearn.linear_model import RidgeClassifier\n",
        "from sklearn.neighbors import NearestCentroid\n",
        " # Parameters for each of the pipelines. \n",
        " # need to add the params for each of the \n",
        "  # parameter list for the three pipelines below\n",
        " # 1 tree\n",
        " # 2 SVC\n",
        " # 3 log regression\n",
        "parameters = [{\n",
        "    # randomForest\n",
        "#     'vect__max_df': (0.5, 0.75, 1.0),\n",
        "    'vect__ngram_range': [(1, 1)],  # unigrams or bigrams\n",
        "    'tfidf__norm': ('l1', 'l2'),\n",
        "#     'tree__criterion': ('gini','entropy'),\n",
        "    \n",
        "},\n",
        "{\n",
        "    'vect__max_df': [0.75],\n",
        "    'vect__ngram_range': [(1, 1)],  # unigrams or bigrams\n",
        "    'tfidf__norm': ['l2'],\n",
        "    'ridge__normalize': [True]\n",
        "},\n",
        "{\n",
        "    'vect__max_df': [0.75],\n",
        "    'vect__ngram_range': [(1, 1)],  # unigrams or bigrams\n",
        "    'tfidf__norm': ['l2'],\n",
        "    'lr__penalty':['l2'],\n",
        "},\n",
        "{\n",
        "    #'vect__max_df': (0.5, 0.75, 1.0),\n",
        "    'vect__ngram_range': ((1, 1), (1, 2)),  # unigrams or bigrams\n",
        "    'tfidf__norm': ('l1', 'l2'),\n",
        "    # 'n_clusters':[2],\n",
        "    \n",
        "}\n",
        "]\n",
        " # Pipeline composed of 3 components vectorizor, tfidf and machine learning method. \n",
        " # there are 3 pipelines\n",
        " # 1 tree\n",
        " # 2 clustering algorithm\n",
        " # 3 log regression\n",
        " # clustering algorithm\n",
        "pipelinelist = [Pipeline([\n",
        "     ('vect', CountVectorizer()),\n",
        "     ('tfidf', TfidfTransformer()),\n",
        "     ('tree', RandomForestClassifier()),\n",
        "]),\n",
        "Pipeline([\n",
        "     ('vect', CountVectorizer()),\n",
        "     ('tfidf', TfidfTransformer()),\n",
        "     ('ridge', RidgeClassifier()),\n",
        "]),\n",
        "Pipeline([\n",
        "     ('vect', CountVectorizer()),\n",
        "     ('tfidf', TfidfTransformer()),\n",
        "     ('lr', LogisticRegression()),\n",
        "]),\n",
        "Pipeline([\n",
        "     ('vect', CountVectorizer()),\n",
        "     ('tfidf', TfidfTransformer()),\n",
        "     ('nc', NearestCentroid()),\n",
        "])\n",
        "]\n"
      ],
      "execution_count": null,
      "outputs": []
    },
    {
      "cell_type": "code",
      "metadata": {
        "deletable": true,
        "editable": true,
        "id": "7e87dlciUW-n"
      },
      "source": [
        "from sklearn.metrics import classification_report\n",
        "from sklearn.metrics import f1_score\n",
        "from sklearn import metrics\n",
        "from sklearn.metrics import precision_score\n",
        "from sklearn.metrics import roc_auc_score\n",
        "from sklearn.metrics import recall_score\n",
        "TrainScores=[];\n",
        "TestScores=[];\n",
        "F1scores=[];\n",
        "AUCs=[];\n",
        "presessionscore=[];\n",
        "recallscore=[];\n",
        "rocs=[];\n",
        "\n",
        "\n"
      ],
      "execution_count": null,
      "outputs": []
    },
    {
      "cell_type": "code",
      "metadata": {
        "deletable": true,
        "editable": true,
        "id": "bnHi5K9xjl-C",
        "outputId": "d6ac2609-03f7-49f8-ef03-c780aaaadf4f"
      },
      "source": [
        "# For loop through the three input fields\n",
        "# for i in range(3):\n",
        "  # For loop through the three machine learning methods\n",
        "for m in range(3):\n",
        "    gs_clf = GridSearchCV(pipelinelist[m], parameters[m], cv=5, n_jobs=-1);\n",
        "    gs_clf = gs_clf.fit(Xtrains[2], Ytrains[2])\n",
        "    train=gs_clf.score(Xtrains[2], Ytrains[2]);\n",
        "    TrainScores.append(train);\n",
        "    test=gs_clf.score(Xtests[2], Ytests[2])\n",
        "    y_true=Ytests[2]\n",
        "    y_pred=gs_clf.predict(Xtests[2]);\n",
        "    TestScores.append(test);\n",
        "    F1scores.append(f1_score(y_true, y_pred))\n",
        "    fpr, tpr, thresholds = metrics.roc_curve(y_true, y_pred, pos_label=1)\n",
        "    AUCs.append(metrics.auc(fpr, tpr));\n",
        "    presessionscore.append(precision_score(y_true, y_pred));\n",
        "    recallscore.append(recall_score(y_true, y_pred));\n",
        "    rocs.append(roc_auc_score(y_true, y_pred))\n",
        "    print(gs_clf)\n",
        "    print(classification_report(Ytests[2], y_pred))"
      ],
      "execution_count": null,
      "outputs": [
        {
          "output_type": "stream",
          "text": [
            "GridSearchCV(cv=5,\n",
            "             estimator=Pipeline(steps=[('vect', CountVectorizer()),\n",
            "                                       ('tfidf', TfidfTransformer()),\n",
            "                                       ('tree', RandomForestClassifier())]),\n",
            "             n_jobs=-1,\n",
            "             param_grid={'tfidf__norm': ('l1', 'l2'),\n",
            "                         'vect__ngram_range': [(1, 1)]})\n",
            "              precision    recall  f1-score   support\n",
            "\n",
            "           0       0.99      0.99      0.99      5876\n",
            "           1       0.99      0.99      0.99      5349\n",
            "\n",
            "    accuracy                           0.99     11225\n",
            "   macro avg       0.99      0.99      0.99     11225\n",
            "weighted avg       0.99      0.99      0.99     11225\n",
            "\n",
            "GridSearchCV(cv=5,\n",
            "             estimator=Pipeline(steps=[('vect', CountVectorizer()),\n",
            "                                       ('tfidf', TfidfTransformer()),\n",
            "                                       ('ridge', RidgeClassifier())]),\n",
            "             n_jobs=-1,\n",
            "             param_grid={'ridge__normalize': [True], 'tfidf__norm': ['l2'],\n",
            "                         'vect__max_df': [0.75],\n",
            "                         'vect__ngram_range': [(1, 1)]})\n",
            "              precision    recall  f1-score   support\n",
            "\n",
            "           0       0.99      0.98      0.98      5876\n",
            "           1       0.98      0.98      0.98      5349\n",
            "\n",
            "    accuracy                           0.98     11225\n",
            "   macro avg       0.98      0.98      0.98     11225\n",
            "weighted avg       0.98      0.98      0.98     11225\n",
            "\n",
            "GridSearchCV(cv=5,\n",
            "             estimator=Pipeline(steps=[('vect', CountVectorizer()),\n",
            "                                       ('tfidf', TfidfTransformer()),\n",
            "                                       ('lr', LogisticRegression())]),\n",
            "             n_jobs=-1,\n",
            "             param_grid={'lr__penalty': ['l2'], 'tfidf__norm': ['l2'],\n",
            "                         'vect__max_df': [0.75],\n",
            "                         'vect__ngram_range': [(1, 1)]})\n",
            "              precision    recall  f1-score   support\n",
            "\n",
            "           0       0.99      0.98      0.99      5876\n",
            "           1       0.98      0.99      0.99      5349\n",
            "\n",
            "    accuracy                           0.99     11225\n",
            "   macro avg       0.99      0.99      0.99     11225\n",
            "weighted avg       0.99      0.99      0.99     11225\n",
            "\n"
          ],
          "name": "stdout"
        }
      ]
    },
    {
      "cell_type": "code",
      "metadata": {
        "deletable": true,
        "editable": true,
        "colab": {
          "base_uri": "https://localhost:8080/"
        },
        "id": "GVvKb8YSjl-D",
        "outputId": "c6622b9a-0051-41c2-a567-5ad3a127bfc9"
      },
      "source": [
        "# Model 4 was run seperatly\n",
        "gs_clf = GridSearchCV(pipelinelist[3], parameters[3], cv=3, n_jobs=1);\n",
        "gs_clf = gs_clf.fit(Xtrains[2], Ytrains[2])\n",
        "train=gs_clf.score(Xtrains[2], Ytrains[2]);\n",
        "TrainScores.append(train);\n",
        "test=gs_clf.score(Xtests[2], Ytests[2])\n",
        "y_true=Ytests[2]\n",
        "y_pred=gs_clf.predict(Xtests[2]);\n",
        "TestScores.append(test);\n",
        "F1scores.append(f1_score(y_true, y_pred))\n",
        "fpr, tpr, thresholds = metrics.roc_curve(y_true, y_pred, pos_label=1)\n",
        "AUCs.append(metrics.auc(fpr, tpr));\n",
        "presessionscore.append(precision_score(y_true, y_pred));\n",
        "recallscore.append(recall_score(y_true, y_pred));\n",
        "rocs.append(roc_auc_score(y_true, y_pred))\n",
        "print(gs_clf)\n",
        "print(classification_report(Ytests[2], y_pred))"
      ],
      "execution_count": null,
      "outputs": [
        {
          "output_type": "stream",
          "text": [
            "GridSearchCV(cv=3, error_score=nan,\n",
            "             estimator=Pipeline(memory=None,\n",
            "                                steps=[('vect',\n",
            "                                        CountVectorizer(analyzer='word',\n",
            "                                                        binary=False,\n",
            "                                                        decode_error='strict',\n",
            "                                                        dtype=<class 'numpy.int64'>,\n",
            "                                                        encoding='utf-8',\n",
            "                                                        input='content',\n",
            "                                                        lowercase=True,\n",
            "                                                        max_df=1.0,\n",
            "                                                        max_features=None,\n",
            "                                                        min_df=1,\n",
            "                                                        ngram_range=(1, 1),\n",
            "                                                        preprocessor=None,\n",
            "                                                        stop_words=None,\n",
            "                                                        strip_accents=None,\n",
            "                                                        token_pattern='(?u)...\n",
            "                                                        vocabulary=None)),\n",
            "                                       ('tfidf',\n",
            "                                        TfidfTransformer(norm='l2',\n",
            "                                                         smooth_idf=True,\n",
            "                                                         sublinear_tf=False,\n",
            "                                                         use_idf=True)),\n",
            "                                       ('nc',\n",
            "                                        NearestCentroid(metric='euclidean',\n",
            "                                                        shrink_threshold=None))],\n",
            "                                verbose=False),\n",
            "             iid='deprecated', n_jobs=1,\n",
            "             param_grid={'tfidf__norm': ('l1', 'l2'),\n",
            "                         'vect__ngram_range': ((1, 1), (1, 2))},\n",
            "             pre_dispatch='2*n_jobs', refit=True, return_train_score=False,\n",
            "             scoring=None, verbose=0)\n",
            "              precision    recall  f1-score   support\n",
            "\n",
            "           0       0.95      0.94      0.94      5876\n",
            "           1       0.93      0.94      0.94      5349\n",
            "\n",
            "    accuracy                           0.94     11225\n",
            "   macro avg       0.94      0.94      0.94     11225\n",
            "weighted avg       0.94      0.94      0.94     11225\n",
            "\n"
          ],
          "name": "stdout"
        }
      ]
    },
    {
      "cell_type": "code",
      "metadata": {
        "deletable": true,
        "editable": true,
        "id": "se2cwSQejl-D",
        "outputId": "442ed550-442c-4ae1-f3eb-ef37d4bc6cd4"
      },
      "source": [
        "print(gs_clf.best_params_)\n",
        "\n",
        "# lr\n",
        "#{'lr__penalty': 'l2', 'tfidf__norm': 'l2', 'vect__max_df': 0.75, 'vect__ngram_range': (1, 1)}\n",
        "# ridge\n",
        "# {'ridge__normalize': True, 'tfidf__norm': 'l2', 'vect__max_df': 0.75, 'vect__ngram_range': (1, 1)}"
      ],
      "execution_count": null,
      "outputs": [
        {
          "output_type": "stream",
          "text": [
            "{'ridge__normalize': True, 'tfidf__norm': 'l2', 'vect__max_df': 0.75, 'vect__ngram_range': (1, 1)}\n"
          ],
          "name": "stdout"
        }
      ]
    },
    {
      "cell_type": "code",
      "metadata": {
        "colab": {
          "background_save": true
        },
        "deletable": true,
        "editable": true,
        "id": "lOAmNrmqxpCn"
      },
      "source": [
        "#saveing the data to files to use later. \n",
        "import numpy\n",
        "a = numpy.asarray( TrainScores )\n",
        "numpy.savetxt(\"TrainScores.csv\", a, delimiter=\",\")\n",
        "b = numpy.asarray(TestScores)\n",
        "numpy.savetxt(\"TestScores.csv\", b, delimiter=\",\")\n",
        "c = numpy.asarray(F1scores)\n",
        "numpy.savetxt(\"F1scores.csv\", c, delimiter=\",\")\n",
        "d = numpy.asarray(AUCs)\n",
        "numpy.savetxt(\"AUCs.csv\", d, delimiter=\",\")\n",
        "e = numpy.asarray(rocs)\n",
        "numpy.savetxt(\"rocs.csv\", e, delimiter=\",\")\n",
        "f = numpy.asarray(recallscore)\n",
        "numpy.savetxt(\"recallscore.csv\", f, delimiter=\",\")\n",
        "f = numpy.asarray(presessionscore)\n",
        "numpy.savetxt(\"presessionscore.csv\", f, delimiter=\",\")\n"
      ],
      "execution_count": null,
      "outputs": []
    },
    {
      "cell_type": "code",
      "metadata": {
        "colab": {
          "base_uri": "https://localhost:8080/"
        },
        "deletable": true,
        "editable": true,
        "id": "C6uKhrPByRrv",
        "outputId": "6c362b70-8586-41cd-9010-e7600d85aaf9"
      },
      "source": [
        "print(TrainScores);\n",
        "print(TestScores);\n",
        "print(F1scores);\n",
        "print(AUCs);\n",
        "print(presessionscore);\n",
        "print(rocs);\n",
        "print(recallscore);"
      ],
      "execution_count": null,
      "outputs": [
        {
          "output_type": "stream",
          "text": [
            "[0.93817004721884]\n",
            "[0.941380846325167]\n",
            "[0.9388703084355258]\n",
            "[0.9415280093452508]\n",
            "[0.9331486611265004]\n",
            "[0.9415280093452508]\n",
            "[0.9446625537483642]\n"
          ],
          "name": "stdout"
        }
      ]
    }
  ]
}